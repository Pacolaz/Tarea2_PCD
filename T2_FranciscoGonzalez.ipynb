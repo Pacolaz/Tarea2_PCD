{
 "cells": [
  {
   "cell_type": "markdown",
   "id": "cf6552d3",
   "metadata": {},
   "source": [
    "# MLOps"
   ]
  },
  {
   "cell_type": "markdown",
   "id": "575392e6",
   "metadata": {},
   "source": [
    "MLOps significa Operaciones de Aprendizaje Automático. EL objetivo de los MLOps es hacer más fácil el poner modelos de aprendizaje automático en producción. "
   ]
  },
  {
   "cell_type": "markdown",
   "id": "4834468d",
   "metadata": {},
   "source": [
    "MLOps mejora la creación y calidad de soluciones de IA. Facilita la colaboración entre científicos de datos e ingenieros, acelera el desarrollo y producción de modelos con CI/CD, y asegura la monitorización, validación y gobernanza de los modelos de ML."
   ]
  },
  {
   "cell_type": "markdown",
   "id": "2a897c87",
   "metadata": {},
   "source": [
    "MLOps es esencial para gestionar el complejo ciclo de vida del aprendizaje automático, que incluye la ingesta de datos, preparación, entrenamiento de modelos, ajuste, despliegue y monitoreo. Requiere colaboración entre varios equipos y un rigor operativo estricto para asegurar procesos fluidos y sincrónicos, permitiendo la mejora continua y la iteración."
   ]
  },
  {
   "cell_type": "markdown",
   "id": "3e4d45f0",
   "metadata": {},
   "source": [
    "Los beneficios de MLOps incluyen eficiencia en el desarrollo y producción de modelos, escalabilidad para gestionar miles de modelos con integración y despliegue continuos, y reducción de riesgos mediante mayor transparencia y cumplimiento regulatorio."
   ]
  },
  {
   "cell_type": "markdown",
   "id": "69b0a423",
   "metadata": {},
   "source": [
    "MLOps en proyectos de aprendizaje automático puede abarcar desde el pipeline de datos hasta la producción del modelo. Las empresas suelen implementar MLOps en análisis exploratorio de datos, preparación de datos e ingeniería de características, entrenamiento y ajuste del modelo, revisión y gobernanza del modelo, inferencia y servicio del modelo, monitoreo del modelo y reentrenamiento automatizado del modelo."
   ]
  },
  {
   "cell_type": "markdown",
   "id": "4abe3375",
   "metadata": {},
   "source": [
    "Las mejores prácticas para MLOps incluyen: realizar análisis exploratorio de datos (EDA) para preparar y compartir datos; transformar y gestionar características de datos; entrenar y ajustar modelos usando bibliotecas y herramientas como AutoML; revisar y gobernar modelos con plataformas como MLflow; gestionar la inferencia y el servicio del modelo con herramientas de CI/CD; automatizar el despliegue y monitoreo de modelos; y habilitar el reentrenamiento automático del modelo para corregir desviaciones."
   ]
  },
  {
   "cell_type": "markdown",
   "id": "0dd9c2c6",
   "metadata": {},
   "source": [
    "MLOps aplica prácticas de DevOps a proyectos de aprendizaje automático, enfocándose en llevar modelos a producción con un enfoque iterativo y continuo, resultando en una mayor calidad del software y lanzamientos más rápidos."
   ]
  },
  {
   "cell_type": "markdown",
   "id": "d0db690e",
   "metadata": {},
   "source": [
    "El entrenamiento de grandes modelos de lenguaje (LLMOps) difiere del MLOps tradicional en varios aspectos clave: requiere recursos computacionales especializados como GPUs, utiliza el aprendizaje por transferencia para ajustar modelos base con nuevos datos, incorpora retroalimentación humana a través del aprendizaje por refuerzo, y necesita un ajuste de hiperparámetros enfocado en reducir costos y requisitos computacionales. Además, las métricas de rendimiento para LLMs son más complejas y específicas, como BLEU y ROGUE, en comparación con las métricas tradicionales de ML."
   ]
  },
  {
   "cell_type": "markdown",
   "id": "1d15d99e",
   "metadata": {},
   "source": [
    "Una plataforma de MLOps ofrece un entorno colaborativo para científicos de datos e ingenieros de software, facilitando la exploración de datos, seguimiento de experimentos, ingeniería de características, gestión, despliegue y monitoreo de modelos, automatizando aspectos operativos del ciclo de vida del aprendizaje automático."
   ]
  }
 ],
 "metadata": {
  "kernelspec": {
   "display_name": "Python 3 (ipykernel)",
   "language": "python",
   "name": "python3"
  },
  "language_info": {
   "codemirror_mode": {
    "name": "ipython",
    "version": 3
   },
   "file_extension": ".py",
   "mimetype": "text/x-python",
   "name": "python",
   "nbconvert_exporter": "python",
   "pygments_lexer": "ipython3",
   "version": "3.11.5"
  }
 },
 "nbformat": 4,
 "nbformat_minor": 5
}
